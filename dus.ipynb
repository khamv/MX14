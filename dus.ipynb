{
 "cells": [
  {
   "cell_type": "markdown",
   "metadata": {},
   "source": [
    "<p class=\"title\">Dollar-unit sampling and \"taint\"</p>\n"
   ]
  },
  {
   "cell_type": "markdown",
   "metadata": {},
   "source": [
    "## Dollar-unit sampling\n",
    "\n",
    "Dollar-unit sampling (DUS) is a form of probability proportional to size (PPS) sampling that originated in statistical financial auditing.  In this case, \"size\" is an upper bound on the value of the item; DUS is sometimes called sampling with probability proportional to an upper bound (PPUB).\n",
    "\n",
    "The idea is that each item in a population has a reported value and a true value; the true value is known only if the item is audited&mdash;which is expensive.  There is a possibility that the reported value is too high.  We sample units with probability proportional to their reported values.\n",
    "\n",
    "Intuitively, it makes sense to focus attention on the items with larger reported values, because \"that's where the money is.\" Errors in the values of those items potentially have a larger effect on the error in the total reported value for the population.\n",
    "\n",
    "### The math\n",
    "\n",
    "There are $N$ items, $\\{x_j\\}_{j=1}^N$. There are $N$ known numbers $\\{u_j\\}_{j=1}^N$ such that\n",
    "$$\n",
    "   0 \\le x_j \\le u_j, \\; j = 1, \\ldots, N.\n",
    "$$\n",
    "Define $u \\equiv \\sum_{j=1}^N u_j$, $x \\equiv \\sum_{j=1}^N x_j$, and $\\mu \\equiv x/N = \\frac{1}{N} \\sum_{j=1}^N x_j.$\n",
    "\n",
    "We will consider only sampling with replacement (although this can be extended to sampling without replacement).\n",
    "\n",
    "In the $i$th draw, we select item $j$ with probability $\\pi_j \\equiv u_j/u$.  \n",
    "\n",
    "Let $X_i$ be the true value of the item selected in draw $i$, and let $U_i$ be the reported value of the item selected in draw $i$.\n",
    "\n",
    "If we sample with replacement, $\\{X_i\\}$ are iid, as are $\\{U_i \\}$."
   ]
  },
  {
   "cell_type": "markdown",
   "metadata": {},
   "source": [
    "## Taint\n",
    "\n",
    "Define $t_j \\equiv x_j/u_j$. This value, the \"taint,\" is the fraction of the reported value that the true value represents.\n",
    "\n",
    "Define $t \\equiv x/u$. (This is _not_ parallel to the definitions of $x$ and $u$.)\n",
    "\n",
    "Define $T_i \\equiv X_i/U_i$, the taint of the item selected in the $i$th draw. Then $\\{T_i \\}$ are iid.\n",
    "\n",
    "Calculate:\n",
    "$$\n",
    "    \\mathbb E T_i = \\sum_{j=1}^N t_j \\pi_j = \\sum_{j=1}^N (x_j/u_j) (u_j/u) = \\frac{1}{u}\\sum_{j=1}^N x_j = x/u = t.\n",
    "$$\n",
    "Thus the expected value of the taint for any draw, times $u$, is the population total $x$.\n",
    "\n",
    "Since $u$ is known, we can translate an upper confidence bound for $\\mathbb E T_i$ into an upper confidence bound for $x$ or for $\\mu$ by multiplication.\n",
    "\n",
    "This is the relationship we will exploit to connect auditing problems to the problem of finding a nonparametric confidence bound for the mean of a non-negative or bounded population.\n",
    "\n",
    "The main point is that since $\\mathbb P \\{T_i \\in [0, 1]\\} = 1$, we can use any of the methods we've developed for finding confidence bounds for the mean of nonnegative or bounded populations (Binomial with thresholding, Checychev's inequality, Hoeffding's inequality, Markov's inequality, the MDKW inequality, and the Kaplan-Markov method) to make confidence bonds for $\\mathbb E T_i$.  In turn, any confidence bound for $t$ can be translated easily into a rigorous confidence bound for the population mean $\\mu$ and population total $x$."
   ]
  },
  {
   "cell_type": "markdown",
   "metadata": {},
   "source": [
    "## Some examples\n",
    "\n",
    "### Litigation and elections\n",
    "\n",
    "A plaintiff might want to find a confidence bound in one direction; a defendant might want a confidence bound in the opposite direction.\n",
    "\n",
    "+ Employment litigation\n",
    "  - wage and hour: overtime is nonnegative, and has an upper bound based on the number of days an employee worked\n",
    "  - missed meal or rest breaks: nonnegative and has an upper bound based on days worked\n",
    "+ Toxic tort class action\n",
    "  - damages are nonnegative\n",
    "+ Construction defects, product defects\n",
    "  - damages nonnegative and bounded (e.g., by replacement cost)\n",
    "+ Illegal charges for loan origination\n",
    "  - nonnegative and bounded by total origination fee\n",
    "+ Patent and intellectual property infringement\n",
    "  - damages nonnegative; upper bound from royalty rate and number of potentially infringing items\n",
    "+ Healthcare fraud\n",
    "  - damages nonnegative and bounded by billed amount\n",
    "+ Tax fraud\n",
    "  - taxes paid is an upper bound\n",
    "+ Under-refunding of security deposits\n",
    "  - amount not refunded is an upper bound\n",
    "+ Election integrity\n",
    "  - upper and lower bounds on the error in counting the votes on a ballot depend on the election rules; I'll talk about this in my plenary lecture"
   ]
  },
  {
   "cell_type": "markdown",
   "metadata": {},
   "source": [
    "Here's code to draw a weighted random sample in Python:"
   ]
  },
  {
   "cell_type": "code",
   "execution_count": 1,
   "metadata": {
    "collapsed": false
   },
   "outputs": [],
   "source": [
    "# This is the first cell with code: set up the Python environment\n",
    "%matplotlib inline\n",
    "import matplotlib.pyplot as plt\n",
    "import math\n",
    "import numpy as np\n",
    "import scipy as sp\n",
    "import scipy.stats\n",
    "from scipy.stats import binom\n",
    "import pandas as pd\n",
    "from ipywidgets import interact, interactive, fixed\n",
    "import ipywidgets as widgets\n",
    "from IPython.display import clear_output, display, HTML"
   ]
  },
  {
   "cell_type": "code",
   "execution_count": 2,
   "metadata": {
    "collapsed": false
   },
   "outputs": [],
   "source": [
    "def weightedRandomSample(n, weights):\n",
    "    '''\n",
    "       Weighted random sample of size n drawn with replacement.\n",
    "       Returns indices of the selected items, and the raw uniform values used to \n",
    "       select them.\n",
    "    '''\n",
    "    if any(weights < 0):\n",
    "        print 'negative weight in weightedRandomSample'\n",
    "        return float('NaN')\n",
    "    else:\n",
    "        wc = np.cumsum(weights, dtype=float)/np.sum(weights, dtype=float)  # ensure weights sum to 1\n",
    "        theSam = np.random.random_sample((n,))\n",
    "        return np.array(wc).searchsorted(theSam), theSam"
   ]
  },
  {
   "cell_type": "code",
   "execution_count": 3,
   "metadata": {
    "collapsed": false
   },
   "outputs": [
    {
     "name": "stdout",
     "output_type": "stream",
     "text": [
      "[0 1 1 1 1 1 2 2 2 2 3 3 3 3 3 3 3 3 4 4 4 4 4 4 4 4 5 5 5 5 5 5 5 5 5 5 5\n",
      " 5 6 6 6 6 6 6 6 6 6 6 6 6 6 6 7 7 7 7 7 7 7 7 7 7 7 7 8 8 8 8 8 8 8 8 8 8\n",
      " 8 8 8 8 8 8 8 8 8 9 9 9 9 9 9 9 9 9 9 9 9 9 9 9 9 9]\n"
     ]
    },
    {
     "data": {
      "text/plain": [
       "(array([  1.,   5.,   4.,   8.,   8.,  12.,  14.,  12.,  19.]),\n",
       " array([-0.5,  0.5,  1.5,  2.5,  3.5,  4.5,  5.5,  6.5,  7.5,  8.5]),\n",
       " <a list of 9 Patch objects>)"
      ]
     },
     "execution_count": 3,
     "metadata": {},
     "output_type": "execute_result"
    },
    {
     "data": {
      "image/png": "[encoded data removed]",
      "text/plain": [
       "<matplotlib.figure.Figure at 0x1139d3110>"
      ]
     },
     "metadata": {},
     "output_type": "display_data"
    }
   ],
   "source": [
    "# illustrate the random sampling code\n",
    "vals = 10\n",
    "n = 100\n",
    "w = np.arange(vals)+1  # linearly increasing weights\n",
    "wrs, raw = weightedRandomSample(n, w)\n",
    "print np.sort(wrs)\n",
    "fig, ax = plt.subplots(nrows=1, ncols=1)\n",
    "bins = np.arange(np.min(wrs)-0.5, np.max(wrs)+0.5, 1)\n",
    "ax.hist(wrs, bins=bins)"
   ]
  },
  {
   "cell_type": "markdown",
   "metadata": {},
   "source": [
    "## What's next?\n",
    "- [Next: Penny Sampling](pennySampling.ipynb)\n",
    "- [Previous: The Kaplan-Wald Confidence Bound for a Nonnegative Mean](kaplanWald.ipynb)\n",
    "- [Index](index.ipynb)"
   ]
  },
  {
   "cell_type": "code",
   "execution_count": 4,
   "metadata": {
    "collapsed": false
   },
   "outputs": [
    {
     "data": {
      "text/html": [
       "<link href='http://fonts.googleapis.com/css?family=Lora|Open+Sans' rel='stylesheet' type='text/css'>\n",
       "<style>\n",
       "\n",
       "font-family: 'Lora', serif;\n",
       "\n",
       ".MathJax_Display {\n",
       "  padding: 10px;\n",
       "}\n",
       "\n",
       "div.callout {\n",
       "  color: #000000;\n",
       "  background-color: #DDDDDD;\n",
       "  margin: 20px 20px 20px 20px;\n",
       "  border-style: solid;\n",
       "  border-width: 2px;\n",
       "  padding: 10px 10px;\n",
       "}\n",
       "\n",
       ".rendered_html {\n",
       "  color: #2C5494;\n",
       "  font-family: 'Lora', serif;\n",
       "  font-size: 140%;\n",
       "  line-height: 1.1;\n",
       "  margin: 0.5em 0;\n",
       "}\n",
       "\n",
       "div.cell {\n",
       "    width:900px;\n",
       "    margin-left:auto;\n",
       "    margin-right:auto;\n",
       "}\n",
       "\n",
       "div.text_cell_render {\n",
       "    width:800px;\n",
       "    margin-left:auto;\n",
       "    margin-right:auto;\n",
       "}\n",
       "\n",
       "\n",
       ".title {\n",
       "  font-family: 'Open Sans', sans-serif;\n",
       "  color: #4773D1;\n",
       "  font-size: 250%;\n",
       "  font-weight:bold;\n",
       "  line-height: 1.2;\n",
       "  margin: 0.5em 0;\n",
       "}\n",
       "\n",
       ".subtitle {\n",
       "  font-family: 'Open Sans', sans-serif;\n",
       "  color: #386BBC;\n",
       "  font-size: 180%;\n",
       "  font-weight:bold;\n",
       "  line-height: 1.2;\n",
       "  margin: 0.5em 0;\n",
       "}\n",
       "\n",
       ".slide-header, p.slide-header {\n",
       "  color: #4773D1;\n",
       "  font-size: 200%;\n",
       "  font-weight:bold;\n",
       "  margin: 0px 20px 10px;\n",
       "  page-break-before: always;\n",
       "  text-align: center;\n",
       "}\n",
       "\n",
       ".rendered_html .code {\n",
       "  background-color: #999999;\n",
       "}\n",
       "\n",
       ".rendered_html h1 {\n",
       "  color: #7898DD;\n",
       "  font-family: 'Open Sans', sans-serif;\n",
       "  line-height: 1.2;\n",
       "  margin: 0.15em 0em 0.5em;\n",
       "  page-break-before: always;\n",
       "}\n",
       "\n",
       "\n",
       ".rendered_html h2 {\n",
       "  color: #4773D1;\n",
       "  line-height: 1.2;\n",
       "  margin: 1.1em 0em 0.5em;\n",
       "}\n",
       "\n",
       ".rendered_html h3 {\n",
       "  font-size: 100%;\n",
       "  line-height: 1.2;\n",
       "  margin: 1.1em 0em 0.5em;\n",
       "}\n",
       "\n",
       ".rendered_html .definition, .proposition, .proof, .theorem {\n",
       "    padding-top: 20px;\n",
       "    color: #222299;\n",
       "    font-size: 120%;\n",
       "    font-style: italic;\n",
       "}\n",
       "\n",
       ".definition, .proposition, .theorem {\n",
       "  background-color: #EEEEEE;\n",
       "  border-style: solid;\n",
       "  border-width: 2px;\n",
       "  padding-left: 20px;\n",
       "  padding-right: 20px;\n",
       "}\n",
       "\n",
       ".rendered_html .definition::before{\n",
       "    content: \"Definition:\";\n",
       "    background-color: #DDDDDD;\n",
       "    color: #222299;\n",
       "    font-size: 110%;\n",
       "    font-weight: bold;\n",
       "    font-style: normal;\n",
       "}\n",
       "\n",
       ".rendered_html .proposition::before{\n",
       "    content: \"Proposition:\";\n",
       "    background-color: #DDDDDD;\n",
       "    color: #222299;\n",
       "    font-size: 110%;\n",
       "    font-weight: bold;\n",
       "    font-style: normal;\n",
       "}\n",
       "\n",
       ".rendered_html .proof::before{\n",
       "    content: \"Proof:\";\n",
       "    background-color: #DDDDDD;\n",
       "    color: #222299;\n",
       "    font-size: 110%;\n",
       "    font-weight: bold;\n",
       "    font-style: normal;\n",
       "}\n",
       "\n",
       ".rendered_html .theorem::before{\n",
       "    content: \"Theorem:\";\n",
       "    background-color: #DDDDDD;\n",
       "    color: #222299;\n",
       "    font-size: 110%;\n",
       "    font-weight: bold;\n",
       "    font-style: normal;\n",
       "}\n",
       "\n",
       "\n",
       ".rendered_html ol li {\n",
       "  padding-top: 20px;\n",
       "  padding-bottom: -20px;\n",
       "  line-height: 1.5;\n",
       "}\n",
       "\n",
       ".rendered_html ul li {\n",
       "  padding-top: 0px;\n",
       "  padding-bottom: 0px;\n",
       "  line-height: 1.2;\n",
       "}\n",
       "\n",
       "li:first-of-type {\n",
       "  padding-top: -100px;\n",
       "}\n",
       "\n",
       ".input_prompt, .CodeMirror-lines, .output_area {\n",
       "  font-family: Consolas;\n",
       "  font-size: 120%;\n",
       "}\n",
       "\n",
       ".gap-above {\n",
       "  padding-top: 200px;\n",
       "}\n",
       "\n",
       ".gap01 {\n",
       "  padding-top: 10px;\n",
       "}\n",
       "\n",
       ".gap05 {\n",
       "  padding-top: 50px;\n",
       "}\n",
       "\n",
       ".gap1 {\n",
       "  padding-top: 100px;\n",
       "}\n",
       "\n",
       ".gap2 {\n",
       "  padding-top: 200px;\n",
       "}\n",
       "\n",
       ".gap3 {\n",
       "  padding-top: 300px;\n",
       "}\n",
       "\n",
       ".emph {\n",
       "  color: #386BBC;\n",
       "}\n",
       "\n",
       ".warn {\n",
       "  color: red;\n",
       "}\n",
       "\n",
       ".center {\n",
       "  text-align: center;\n",
       "}\n",
       "\n",
       ".nb_link {\n",
       "    padding-bottom: 0.5em;\n",
       "}\n",
       "\n",
       "</style>"
      ],
      "text/plain": [
       "<IPython.core.display.HTML object>"
      ]
     },
     "metadata": {},
     "output_type": "display_data"
    }
   ],
   "source": [
    "%run talkTools.py"
   ]
  },
  {
   "cell_type": "code",
   "execution_count": null,
   "metadata": {
    "collapsed": false
   },
   "outputs": [],
   "source": []
  }
 ],
 "metadata": {
  "anaconda-cloud": {},
  "kernelspec": {
   "display_name": "Python [default]",
   "language": "python",
   "name": "python2"
  },
  "language_info": {
   "codemirror_mode": {
    "name": "ipython",
    "version": 2
   },
   "file_extension": ".py",
   "mimetype": "text/x-python",
   "name": "python",
   "nbconvert_exporter": "python",
   "pygments_lexer": "ipython2",
   "version": "2.7.11"
  }
 },
 "nbformat": 4,
 "nbformat_minor": 0
}
